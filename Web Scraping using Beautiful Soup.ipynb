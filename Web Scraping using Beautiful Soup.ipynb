{
 "cells": [
  {
   "cell_type": "code",
   "execution_count": 1,
   "metadata": {},
   "outputs": [],
   "source": [
    "from urllib.request import urlopen as webopen\n",
    "import os\n",
    "os.chdir(\"D:\\Data Science\\Python\\Webscrape\")"
   ]
  },
  {
   "cell_type": "code",
   "execution_count": 2,
   "metadata": {},
   "outputs": [],
   "source": [
    "from bs4 import BeautifulSoup as BS"
   ]
  },
  {
   "cell_type": "code",
   "execution_count": 3,
   "metadata": {},
   "outputs": [],
   "source": [
    "myurl = 'https://www.newegg.com/global/in/Product/ProductList.aspx?Submit=ENE&Category=223&N=100208694&IsNodeId=1&nm_mc=KNC-GoogleinAdwords&cm_mmc=KNC-GoogleinAdwords-_-Sitelink-India-_-Laptop-_-Global&gclid=CjwKCAjw3cPYBRB7EiwAsrc-uXaZqnCbHmltDcSHCM8UpL5yluG5oew1j9fd3JAZk-FoL7Zg2N6uaRoC8OIQAvD_BwE'"
   ]
  },
  {
   "cell_type": "code",
   "execution_count": 10,
   "metadata": {},
   "outputs": [],
   "source": [
    "Webdata = webopen(myurl)\n",
    "Webdata1 = Webdata.read() \n",
    "Webdata.close()"
   ]
  },
  {
   "cell_type": "code",
   "execution_count": 11,
   "metadata": {},
   "outputs": [],
   "source": [
    "Webdata_Soup = BS(Webdata1, 'html.parser')"
   ]
  },
  {
   "cell_type": "code",
   "execution_count": 12,
   "metadata": {},
   "outputs": [],
   "source": [
    "containers = Webdata_Soup.findAll(\"div\",{\"class\":\"item-container\"})"
   ]
  },
  {
   "cell_type": "code",
   "execution_count": 13,
   "metadata": {},
   "outputs": [
    {
     "data": {
      "text/plain": [
       "36"
      ]
     },
     "execution_count": 13,
     "metadata": {},
     "output_type": "execute_result"
    }
   ],
   "source": [
    "len(containers\n",
    "   )"
   ]
  },
  {
   "cell_type": "code",
   "execution_count": 14,
   "metadata": {},
   "outputs": [],
   "source": [
    "contain = containers[0]"
   ]
  },
  {
   "cell_type": "code",
   "execution_count": 15,
   "metadata": {},
   "outputs": [
    {
     "name": "stdout",
     "output_type": "stream",
     "text": [
      "brand:Lenovo\n",
      "Product:Lenovo Laptop IdeaPad 320 80XL03BQUS Intel Core i7 7th Gen 7500U (2.70 GHz) 12 GB Memory 256 GB SSD NVIDIA GeForce 940MX 15.6\" Windows 10 Home 64-Bit\n",
      "Shipping:\n",
      "brand:Apple\n",
      "Product:Apple Laptop MacBook Pro With Touch Bar MPTV2LL/A Intel Core i7 2.9 GHz 16 GB Memory 512 GB SSD AMD Radeon Pro 560 15.4\" Mac OS X v10.12 Sierra\n",
      "Shipping:\n",
      "brand:Apple\n",
      "Product:Apple Grade C Laptop MacBook (2015 Model) Intel Core M 1.30 GHz 8 GB Memory 256 GB SSD Intel HD Graphics 5300 12.0\" Mac OS X v10.11 El Capitan\n",
      "Shipping:\n",
      "brand:Lenovo\n",
      "Product:Lenovo Laptop ThinkPad L460 (20FU0025US) Intel Core i5 6th Gen 6300U (2.40 GHz) 8 GB Memory 256 GB SSD Intel HD Graphics 520 14.0\" Windows 7 Professional 64-Bit (Downgrade From Windows 10 Pro)\n",
      "Shipping:\n",
      "brand:Acer America\n",
      "Product:Acer Aspire 5 A517-51G-54L4 17.3\" Intel Core i5 8th Gen 8250U (1.60 GHz) NVIDIA GeForce MX150 8 GB Memory 256 GB SSD Windows 10 Home 64-Bit Laptop ONLY @ NEWEGG\n",
      "Shipping:\n",
      "brand:MSI\n",
      "Product:MSI GP62MVRX Leopard Pro-1264 VR Ready 15.6\" LCD Notebook - Intel Core i7 (7th Gen) i7-7700HQ Quad-core (4 Core) 2.80 GHz - 16 GB DDR4 SDRAM - 1 TB HDD - 256 GB SSD - Windows 10 - 1920 x 1080 - T\n",
      "Shipping:\n",
      "brand:GIGABYTE\n",
      "Product:GIGABYTE Aero 15W v8-BK4 15.6\" Thin Bezel 144 Hz Intel Core i7 8th Gen 8750H (2.20 GHz) NVIDIA GeForce GTX 1060 16 GB DR4-2666  Memory 512 GB SSD Windows 10 Home 94.24Wh Huge Battery Capacity X-Rite P\n",
      "Shipping:\n",
      "brand:Lenovo\n",
      "Product:Lenovo Legion Y720 (80VR00J0US) 15.6\" Intel Core i7 7th Gen 7700HQ (2.80 GHz) NVIDIA GeForce GTX 1060 16 GB Memory 512 GB PCIe SSD 1 TB HDD Windows 10 Home 64-Bit Gaming Laptop -- ONLY @ NEWEGG\n",
      "Shipping:\n",
      "brand:AORUS\n",
      "Product:Aorus X5 v7-KL3K3D 15.6” 3K WQHD+ G-SYNC Gaming Laptop Intel Core i7 7th Gen 7820HK (2.90 GHz) NVIDIA GeForce GTX 1070  1 TB HDD 256 GB M.2 SSD 16 GB Memory Windows 10 Home 64-Bit RGB Backlit Keyboard\n",
      "Shipping:\n",
      "brand:Acer America\n",
      "Product:Acer Aspire 7 A715-71G-71NC 15.6\" Intel Core i7 7th Gen 7700HQ (2.80 GHz) NVIDIA GeForce GTX 1050 8 GB Memory 1 TB HDD Windows 10 Home 64-Bit Gaming Laptop\n",
      "Shipping:\n",
      "brand:AORUS\n",
      "Product:Aorus X5 v8-CL4D 15.6’’ FHD 144Hz IPS Intel® Core™ i7-8850H  NVIDIA® GeForce® GTX 1070 GDDR5 8GB DDR4-2666 8GB*2 Memory 512GB NVMe PCIe 1TB HDD  G-SYNC Windows 10  64-Bit  Per key RGB FUSION Keyboard\n",
      "Shipping:\n",
      "brand:ASUS\n",
      "Product:ASUS GL503VM-IH73 15.6\" Intel Core i7 7th Gen 7700HQ (2.80 GHz) NVIDIA GeForce GTX 1060 16 GB Memory 128 GB M.2 SATA SSD 1 TB HDD Windows 10 Home 64-Bit Gaming Laptop\n",
      "Shipping:\n",
      "brand:Acer America\n",
      "Product:Acer Switch Alpha 12 SA5-271P-74E1 Intel Core i7 6th Gen 6500U (2.50 GHz) 8 GB Memory 256 GB SSD 12\" Touchscreen 2160 x 1440 2-in-1 Laptop Windows 10 Pro 64-Bit\n",
      "Shipping:\n",
      "brand:Microsoft\n",
      "Product:2017 Surface Book 2 13.5\" Bundle (3 items): Core i7 16GB 1TB, Surface Dock, and Mini DisplayPort Adapter\n",
      "Shipping:\n",
      "brand:Microsoft\n",
      "Product:Microsoft Surface Pro 2017 Edition FJT-00001 Intel Core i5 7th Gen 4 GB Memory 128 GB SSD 12.3\" Touchscreen 2736 x 1824 Tablet Windows 10 Pro 64-Bit\n",
      "Shipping:\n",
      "brand:HP\n",
      "Product:HP EliteBook Revolve 810 G3 (2WJ18UT#ABA) Intel Core i5 5th Gen 5200U (2.20 GHz) 4 GB Memory 128 GB SSD Intel HD Graphics 5500 11.6\" Touchscreen 1366 x 768 Convertible 2-in-1 Laptop Windows 10 Pro 64-\n",
      "Shipping:\n",
      "brand:Lenovo\n",
      "Product:Lenovo Miix 320 80XF00AVUS Intel Atom x5-Z8350 (1.44 GHz) 4 GB Memory 128 GB SSD 10.1\" Touchscreen 1920 x 1200 Detachable 2-in-1 Laptop Windows 10 Pro 64-Bit\n",
      "Shipping:\n",
      "brand:Microsoft\n",
      "Product:Microsoft Surface Pro 2017 Edition FKH-00001 Intel Core i7 7th Gen 16 GB Memory 512 GB SSD 12.3\" Touchscreen 2736 x 1824 Tablet Windows 10 Pro 64-Bit\n",
      "Shipping:\n",
      "brand:Lenovo\n",
      "Product:Lenovo IdeaPad N42-20 (80US0000US) Chromebook Intel Celeron N3060 (1.60 GHz) 4 GB Memory 16 GB eMMC 14.0\" Chrome OS\n",
      "Shipping:\n",
      "brand:ASUS\n",
      "Product:ASUS C300 (C300SA-DH02-RD) Red Chromebook Intel Celeron N3060 (1.60 GHz) 4 GB LPDDR3 Memory 16 GB eMMC 13.3\" Chrome OS\n",
      "Shipping:\n",
      "brand:Acer America\n",
      "Product:Acer Chromebook 15 CB3-532-C4ZZ Chromebook Intel Celeron N3060 (1.60 GHz) 4 GB LPDDR3 Memory 32 GB Internal Storage SSD 15.6\" Chrome OS\n",
      "Shipping:\n",
      "brand:HP\n",
      "Product:HP ZBook 15U G3 (V1H62UT#ABA) Mobile Workstation Intel Core i7 6th Gen 6500U (2.50 GHz) 8 GB Memory 256 GB SSD AMD FirePro W4190M 15.6\" Windows 7 Professional 64-bit upgradable to Windows 10 Pro\n",
      "Shipping:\n",
      "brand:MSI\n",
      "Product:MSI WorkStation Series WS63 7RK-280US Mobile Workstation Intel Core i7 7th Gen 7700HQ (2.80 GHz) 16 GB Memory 2 TB HDD 256 GB SSD NVIDIA Quadro P3000 15.6\" Windows 10 Pro 64-Bit\n",
      "Shipping:\n",
      "brand:DELL\n",
      "Product:Dell Precision 3520 15.6\" LCD Mobile Workstation - Intel Core i7 (7th Gen) i7-7700HQ Quad-core (4 Core) 2.80 GHz - 16 GB DDR4 SDRAM - 2 TB HDD - Windows 10 Pro 64-bit (English/French/Spanish) - 1\n",
      "Shipping:\n",
      "brand:MSI\n",
      "Product:MSI WE73 8SK-294 Mobile Workstation Intel Xeon E-2176M (2.70 GHz) 32 GB ECC Memory 512 GB PCIe SSD NVIDIA Quadro P3200 17.3\" 4K/UHD Windows 10 Pro 64-Bit\n",
      "Shipping:\n",
      "brand:MSI\n",
      "Product:MSI WT73VR 7RM-687US Mobile Workstation Intel Xeon E3-1505M v6 (3.0 GHz) 64 GB ECC Memory 1 TB HDD 512 GB SSD NVIDIA Quadro P5000 17.3\" 4K/UHD Windows 10 Pro 64-Bit\n",
      "Shipping:\n",
      "brand:MSI\n",
      "Product:MSI GL62M 7RDX-NE1050i5 15.6\" Intel Core i5 7th Gen 7300HQ (2.50 GHz) NVIDIA GeForce GTX 1050 8 GB Memory 1 TB HDD Windows 10 Home 64-Bit Gaming Laptop -- ONLY @ NEWEGG\n",
      "Shipping:\n",
      "brand:Lenovo\n",
      "Product:Lenovo Flex 5 81CA000AUS Intel Core i7 8th Gen 8550U (1.80 GHz) 16 GB Memory 512 GB PCIe SSD NVIDIA GeForce 940MX 15.6\" Touchscreen 1920 x 1080 2-in-1 Laptop Windows 10 Home 64-Bit\n",
      "Shipping:\n",
      "brand:Acer America\n",
      "Product:Acer Nitro 5 Spin NP515-51-887W Intel Core i7 8th Gen 8550U (1.80 GHz) 8 GB Memory 1 TB HDD NVIDIA GeForce GTX 1050 15.6\" Touchscreen 1920 x 1080 Convertible 2-in-1 Laptop Windows 10 Home 64-Bit\n",
      "Shipping:\n",
      "brand:ASUS\n",
      "Product:ASUS FX503VD 15.6\" FHD Powerful Gaming Laptop, Intel Core i5-7300HQ 2.5 GHz Processor, GeForce GTX 1050, 1 TB SSHD, 8 GB DDR4, Windows 10 Home\n",
      "Shipping:\n",
      "brand:Lenovo\n",
      "Product:Lenovo Laptop V330 (81AX00GGUS) Intel Core i5 7th Gen 7200U (2.50 GHz) 8 GB Memory 256 GB SSD Intel HD Graphics 620 15.6\" Windows 10 Pro 64-Bit\n",
      "Shipping:\n",
      "brand:ASUS\n",
      "Product:ASUS TUF Gaming Laptop (FX504) 15.6\" Full HD, 8th-Gen Intel Core i5-8300H Processor (Up to 3.9 GHz), GeForce GTX 1050, 8 GB DDR4, 1 TB SSHD\n",
      "Shipping:\n",
      "brand:HP\n",
      "Product:HP ZBook 15 G3 (V2W06UT#ABA) Mobile Workstation Intel Core i7 6th Gen 6700HQ (2.60 GHz) 8 GB Memory 1 TB HDD NVIDIA Quadro M1000M 15.6\" Windows 7 Professional 64-Bit (Downgrade From Windows 10 Pro)\n",
      "Shipping:\n",
      "brand:Porsche Design Computing\n",
      "Product:Porsche Design Book One PD132512 Intel Core i7 7th Gen 7500U (2.70 GHz) 16 GB Memory 512 GB PCIe SSD 13.3\" Touchscreen 3200 x 1800 Detachable 2-in-1 Laptop Windows 10 Pro 64-Bit\n",
      "Shipping:\n",
      "brand:MSI\n",
      "Product:MSI WE63 8SI-239 Mobile Workstation Intel Core i7 8th Gen 8750H (2.20 GHz) 16 GB Memory 256 GB SSD NVIDIA Quadro P1000 15.6\" Windows 10 Pro 64-Bit\n",
      "Shipping:\n",
      "brand:ASUS\n",
      "Product:ASUS C302 Chromebook Flip C302CA-DHM4 12.5-inch FHD Touchscreen Convertible Chromebook Intel Core m3, 4 GB RAM, 64 GB Flash Storage, All-Metal Body, USB Type C, Corning Gorilla Glass, Chrome OS\n",
      "Shipping:\n"
     ]
    }
   ],
   "source": [
    "containers = Webdata_Soup.findAll(\"div\",{\"class\":\"item-container\"})\n",
    "filename = \"Newegg_Product.csv\"\n",
    "f = open(filename, \"w\")\n",
    "header = \"Brand,Product,Shipping\\n\"\n",
    "f.write(header)\n",
    "\n",
    "for contain in containers:\n",
    "    brand = contain.div.div.a.img['title']\n",
    "    Title = contain.findAll(\"a\",{\"class\":\"item-title\"})\n",
    "    Product = Title[0].text\n",
    "    Shippingdetails = contain.findAll(\"li\",{\"class\":\"price-ship\"})\n",
    "    Shipping = Shippingdetails[0].text.strip()\n",
    "    \n",
    "    print(\"brand:\" + brand)\n",
    "    print(\"Product:\" + Product)\n",
    "    print(\"Shipping:\" + Shipping)\n",
    "    \n",
    "    f.write( brand + \",\" + Product.replace(\",\",\"|\") + \",\" + Shipping + \"\\n\")\n",
    "f.close()"
   ]
  },
  {
   "cell_type": "code",
   "execution_count": null,
   "metadata": {},
   "outputs": [],
   "source": []
  }
 ],
 "metadata": {
  "kernelspec": {
   "display_name": "Python 3",
   "language": "python",
   "name": "python3"
  },
  "language_info": {
   "codemirror_mode": {
    "name": "ipython",
    "version": 3
   },
   "file_extension": ".py",
   "mimetype": "text/x-python",
   "name": "python",
   "nbconvert_exporter": "python",
   "pygments_lexer": "ipython3",
   "version": "3.6.4"
  }
 },
 "nbformat": 4,
 "nbformat_minor": 2
}
